{
 "cells": [
  {
   "cell_type": "markdown",
   "metadata": {},
   "source": [
    "# Contributing a Model\n",
    "\n",
    "To create a model, you will create:\n",
    "\n",
    "* A .yaml file containing model metadata and (optionally) an equation string\n",
    "* A .py file containing any additional logic for that model (required if equation string not supplied)\n",
    "* A .json file containing test data for that model\n",
    "\n",
    "This tutorial takes you through how to create and test a model interactively inside a Jupyter notebook. However, if it's a very simple model, it may be easier just to copy an existing model and edit it.\n",
    "\n",
    "As an example, we will create a toy model that, when given a material's band gap, creates a new property we'll call the \"double gap\" (simply the band gap * 2)."
   ]
  },
  {
   "cell_type": "markdown",
   "metadata": {},
   "source": [
    "## Step 1: Find or create your input and output symbols\n",
    "\n",
    "A `Symbol` defines the kinds of quantities a model can accept as inputs or generate as outputs.\n",
    "\n",
    "A symbol can either be:\n",
    "* A *property* of a material, e.g. band gap or bulk modulus.\n",
    "* A *condition*, e.g. temperature or applied stress.\n",
    "* A generic *object*, e.g. a pymatgen `Structure`, or just a simple string or boolean.\n",
    "\n",
    "A symbol is used to provide guarantees about the units and shape (e.g. scalar/matrix/tensor etc.) of a related quantity, and also provides useful information to the user.\n",
    "\n",
    "There are many pre-defined symbols available, [see a full list of them here](https://github.com/materialsintelligence/propnet/tree/master/propnet/symbols)."
   ]
  },
  {
   "cell_type": "code",
   "execution_count": 20,
   "metadata": {},
   "outputs": [],
   "source": [
    "from propnet.symbols import DEFAULT_SYMBOLS"
   ]
  },
  {
   "cell_type": "code",
   "execution_count": 21,
   "metadata": {},
   "outputs": [],
   "source": [
    "band_gap = DEFAULT_SYMBOLS['band_gap']"
   ]
  },
  {
   "cell_type": "code",
   "execution_count": 22,
   "metadata": {},
   "outputs": [
    {
     "name": "stdout",
     "output_type": "stream",
     "text": [
      "band_gap:\n",
      "\tname:\tband_gap\n",
      "\tcategory:\tproperty\n",
      "\tunits:\t1.0 electron_volt\n",
      "\tobject_type:\tNone\n",
      "\tdisplay_names:\t['Band gap']\n",
      "\tdisplay_symbols:\t['E_g']\n",
      "\tshape:\t1\n",
      "\tcomment:\t\n",
      "\n"
     ]
    }
   ],
   "source": [
    "print(band_gap)"
   ]
  },
  {
   "cell_type": "markdown",
   "metadata": {},
   "source": [
    "If the input/output symbols for your model are not available, you'll have to add them to the registry (copy an existing .yaml file as a template, and submit a pull request).\n",
    "\n",
    "Since the \"double gap\" isn't defined in the registry, we can create it dynamically instead:"
   ]
  },
  {
   "cell_type": "code",
   "execution_count": 23,
   "metadata": {},
   "outputs": [
    {
     "name": "stdout",
     "output_type": "stream",
     "text": [
      "Units have been parsed from a string format automatically, do these look correct? (1, (('electron_volt', 1.0),))\n"
     ]
    }
   ],
   "source": [
    "from propnet.core.symbols import Symbol\n",
    "\n",
    "double_gap = Symbol('double_gap',\n",
    "                    category='property',\n",
    "                    display_names=[\"Double band gap (a fake property)\"],\n",
    "                    display_symbols=[\"E_d\"],\n",
    "                    units=\"eV\",\n",
    "                    shape=1)"
   ]
  },
  {
   "cell_type": "markdown",
   "metadata": {},
   "source": [
    "This gave a warning because we parsed the units from a string: make sure to read the warning, it's easy to specify the wrong units (e.g. millisecond `ms` vs meter-seconds `m s`).\n",
    "\n",
    "To contribute this symbol to the registry, write it to a .yaml file and submit a pull request. However, for now we can use this symbol dynamically."
   ]
  },
  {
   "cell_type": "code",
   "execution_count": 24,
   "metadata": {},
   "outputs": [
    {
     "name": "stdout",
     "output_type": "stream",
     "text": [
      "category: property\n",
      "comment: null\n",
      "display_names: [Double band gap (a fake property)]\n",
      "display_symbols: [E_d]\n",
      "name: double_gap\n",
      "shape: 1\n",
      "units:\n",
      "- 1\n",
      "- - [electron_volt, 1.0]\n",
      "\n"
     ]
    }
   ],
   "source": [
    "print(double_gap.to_yaml())"
   ]
  },
  {
   "cell_type": "markdown",
   "metadata": {},
   "source": [
    "## Step 2: Construct your model metadata"
   ]
  },
  {
   "cell_type": "markdown",
   "metadata": {},
   "source": [
    "### 2.1 Symbol Mapping\n",
    "\n",
    "A 'symbol mapping' refers to how we map variables used *inside* our model to their symbol types defined globally, *outside* the model.\n",
    "\n",
    "For example, "
   ]
  },
  {
   "cell_type": "code",
   "execution_count": 25,
   "metadata": {},
   "outputs": [],
   "source": [
    "symbol_mapping = {\n",
    "    'E_g': 'band_gap',\n",
    "    'E_d': 'double_gap'\n",
    "}"
   ]
  },
  {
   "cell_type": "markdown",
   "metadata": {},
   "source": [
    "The reason we have internal variables is that we might have multiple variables with the same symbol, e.g. `{'r_a': 'ionic_radius', 'r_b': 'ionic_radius'}` in the Goldschmidt model.\n",
    "\n",
    "Note we can name these internal variables anything we like.\n",
    "\n",
    "For example, the following would also be valid:\n",
    "\n",
    "```\n",
    "symbol_mapping = {\n",
    "    'bg': 'band_gap',\n",
    "    'double': 'double_gap'\n",
    "}\n",
    "```\n",
    "\n",
    "It's only the keys that reference symbols defined globally that have to match their canonical names."
   ]
  },
  {
   "cell_type": "markdown",
   "metadata": {},
   "source": [
    "### 2.2 Connections"
   ]
  },
  {
   "cell_type": "markdown",
   "metadata": {},
   "source": [
    "And your connections are simply the input/outputs from the model:"
   ]
  },
  {
   "cell_type": "code",
   "execution_count": 26,
   "metadata": {},
   "outputs": [],
   "source": [
    "connections = [\n",
    "    {\n",
    "        'inputs': ['E_g'],\n",
    "        'outputs': ['E_d']\n",
    "    }\n",
    "]"
   ]
  },
  {
   "cell_type": "markdown",
   "metadata": {},
   "source": [
    "This is a list. We can have multiple inputs/outputs to a single model, provided we add logic to our `evaluate` method to handle this. In future, we might try and detect connections automatically. [Work in progress.]"
   ]
  },
  {
   "cell_type": "markdown",
   "metadata": {},
   "source": [
    "### 2.3 Documentation"
   ]
  },
  {
   "cell_type": "code",
   "execution_count": 27,
   "metadata": {},
   "outputs": [],
   "source": [
    "title = 'My model title'\n",
    "tags = ['optical']\n",
    "references = ['url:http://en.wikipedia.org', 'doi:10.1103/PhysRevB.54.11169']\n",
    "description = \"\"\"\n",
    "A long description can go here!\n",
    "\n",
    "Use plain text or Markdown syntax.\n",
    "\n",
    "\"\"\""
   ]
  },
  {
   "cell_type": "markdown",
   "metadata": {},
   "source": [
    "The reference list can contain references either in BibTeX format (string starting with @), or can be urls with a \"url:\" prefix, or dois with a \"doi:\" prefix (these will be parsed into full references automatically via CrossRef)."
   ]
  },
  {
   "cell_type": "code",
   "execution_count": 28,
   "metadata": {},
   "outputs": [],
   "source": [
    "metadata = {\n",
    "    \"title\": title,\n",
    "    \"tags\": tags,\n",
    "    \"references\": references,\n",
    "    \"symbol_mapping\": symbol_mapping,\n",
    "    \"connections\": connections,\n",
    "    \"description\": description\n",
    "}"
   ]
  },
  {
   "cell_type": "markdown",
   "metadata": {},
   "source": [
    "## Step 3: Create model class and evaluation logic"
   ]
  },
  {
   "cell_type": "markdown",
   "metadata": {},
   "source": [
    "**[WIP: we probably need some kind of AbstractModel metaclass / a better way of constructing these classes inside a Jupyter notebook, but this works for now]**"
   ]
  },
  {
   "cell_type": "markdown",
   "metadata": {},
   "source": [
    "### Option 1: Define logic explicitly in Python"
   ]
  },
  {
   "cell_type": "markdown",
   "metadata": {},
   "source": [
    "Create a test model dynamically: this is just for testing evaluation in a Jupyter notebook. Models will know about the default symbols, but since we defined an extra symbol dynamically, we need to include that. (If you're just using already-defined symbols, the `additional_symbols` keyword argument can be left empty.)"
   ]
  },
  {
   "cell_type": "code",
   "execution_count": 29,
   "metadata": {},
   "outputs": [],
   "source": [
    "from propnet.core.models import AbstractModel\n",
    "toy_model = AbstractModel(metadata, additional_symbols=[double_gap])"
   ]
  },
  {
   "cell_type": "markdown",
   "metadata": {},
   "source": [
    "Now we write an evaluate method:"
   ]
  },
  {
   "cell_type": "code",
   "execution_count": 30,
   "metadata": {},
   "outputs": [],
   "source": [
    "def evaluate(symbol_values):\n",
    "    \n",
    "    # you can access your symbol values here\n",
    "    # the dictionary keys will match those you specified\n",
    "    # in your symbol_mapping\n",
    "    E_g = symbol_values[\"E_g\"]\n",
    "    \n",
    "    # evaluate should always return a dictionary\n",
    "    # here \n",
    "    return {\n",
    "        \"E_d\": E_g*2\n",
    "    }\n",
    "    \n",
    "    \n",
    "toy_model.evaluate = evaluate"
   ]
  },
  {
   "cell_type": "markdown",
   "metadata": {},
   "source": [
    "We can now test the model:"
   ]
  },
  {
   "cell_type": "code",
   "execution_count": 31,
   "metadata": {},
   "outputs": [
    {
     "data": {
      "text/plain": [
       "{'E_d': 4}"
      ]
     },
     "execution_count": 31,
     "metadata": {},
     "output_type": "execute_result"
    }
   ],
   "source": [
    "toy_model.evaluate({'E_g': 2})"
   ]
  },
  {
   "cell_type": "markdown",
   "metadata": {},
   "source": [
    "### Option 2: For simple models, just add an equation string to your metadata\n",
    "\n",
    "This will be a list of equation strings parsed by Sympy and solved using Sympy's non-linear solver. Each equation string should equal zero, and be rearranged appropriately"
   ]
  },
  {
   "cell_type": "code",
   "execution_count": 32,
   "metadata": {},
   "outputs": [],
   "source": [
    "metadata[\"equations\"] = [\"E_d - E_g*2\"]"
   ]
  },
  {
   "cell_type": "code",
   "execution_count": 33,
   "metadata": {},
   "outputs": [
    {
     "data": {
      "text/plain": [
       "{'E_d': <Quantity(4.00000000000000, 'electron_volt')>, 'successful': True}"
      ]
     },
     "execution_count": 33,
     "metadata": {},
     "output_type": "execute_result"
    }
   ],
   "source": [
    "toy_model = AbstractModel(metadata, additional_symbols=[double_gap])\n",
    "toy_model.evaluate({'E_g': 2})"
   ]
  },
  {
   "cell_type": "markdown",
   "metadata": {},
   "source": [
    "## Step 4: Create test data\n",
    "\n",
    "Create a few plausible test sets. These will be used by the unit tests to check the model doesn't break in future."
   ]
  },
  {
   "cell_type": "code",
   "execution_count": 34,
   "metadata": {},
   "outputs": [],
   "source": [
    "test_data = [\n",
    "    {\n",
    "        'inputs': {'E_g': 2},\n",
    "        'outputs': {'E_d': 4}\n",
    "    },\n",
    "    {\n",
    "        'inputs': {'E_g': 5},\n",
    "        'outputs': {'E_d': 10}\n",
    "    }\n",
    "]"
   ]
  },
  {
   "cell_type": "markdown",
   "metadata": {},
   "source": [
    "Test your model using this test data:"
   ]
  },
  {
   "cell_type": "code",
   "execution_count": 35,
   "metadata": {},
   "outputs": [
    {
     "data": {
      "text/plain": [
       "True"
      ]
     },
     "execution_count": 35,
     "metadata": {},
     "output_type": "execute_result"
    }
   ],
   "source": [
    "toy_model.test(test_data)"
   ]
  },
  {
   "cell_type": "markdown",
   "metadata": {},
   "source": [
    "This should return True if everything works as expected **[WIP: instead of returning True/False, we should define a new EvaluateFailure exception type]**."
   ]
  },
  {
   "cell_type": "markdown",
   "metadata": {},
   "source": [
    "## Step 5: Export your model\n",
    "\n",
    "We now want to write three files to add to the repository:\n",
    "\n",
    " * a .yaml file containing metadata, to go into `propnet/models`\n",
    " * a .py file containing logic, to go into `propnet/models/`\n",
    " * a .json file containing test data, to go into `propnet/models/test_data`\n",
    "    \n",
    "File names should all be the same, and match the class name in the .py file.\n",
    "\n",
    "It's simple to create the .yaml file:"
   ]
  },
  {
   "cell_type": "code",
   "execution_count": 36,
   "metadata": {},
   "outputs": [
    {
     "name": "stdout",
     "output_type": "stream",
     "text": [
      "connections:\n",
      "- inputs: [E_g]\n",
      "  outputs: [E_d]\n",
      "equations: [E_d - E_g*2]\n",
      "references: [url:http://en.wikipedia.org, doi:10.1103/PhysRevB.54.11169]\n",
      "symbol_mapping: {E_d: double_gap, E_g: band_gap}\n",
      "tags: [optical]\n",
      "title: AbstractModel\n",
      "---\n",
      "\n",
      "A long description can go here!\n",
      "\n",
      "Use plain text or Markdown syntax.\n",
      "\n",
      "\n"
     ]
    }
   ],
   "source": [
    "print(toy_model.to_yaml())  # write this to ToyModel.yaml"
   ]
  },
  {
   "cell_type": "markdown",
   "metadata": {},
   "source": [
    "The ToyModel.py file needs to be constructed manually, but will look something like:\n",
    "\n",
    "```\n",
    "from propnet.core.models import AbstractModel\n",
    "\n",
    "class ToyModel(AbstractModel): pass\n",
    "```\n",
    "\n",
    "or \n",
    "\n",
    "```\n",
    "from propnet.core.models import AbstractModel\n",
    "\n",
    "class ToyModel(AbstractModel):\n",
    "\n",
    "    def evaluate(self, symbol_values):\n",
    "        ...\n",
    "```"
   ]
  },
  {
   "cell_type": "markdown",
   "metadata": {},
   "source": [
    "Finally, the test data can also be dumped to a file:"
   ]
  },
  {
   "cell_type": "code",
   "execution_count": 37,
   "metadata": {},
   "outputs": [],
   "source": [
    "from monty.serialization import dumpfn\n",
    "dumpfn(test_data, 'ToyModel.json')"
   ]
  },
  {
   "cell_type": "markdown",
   "metadata": {},
   "source": [
    "(`dumpfn` is used over `json.dumps` because it will also serialize other objects, such as pymatgen `Structure` objects, to JSON correctly)"
   ]
  }
 ],
 "metadata": {
  "kernelspec": {
   "display_name": "Python 3",
   "language": "python",
   "name": "python3"
  },
  "language_info": {
   "codemirror_mode": {
    "name": "ipython",
    "version": 3
   },
   "file_extension": ".py",
   "mimetype": "text/x-python",
   "name": "python",
   "nbconvert_exporter": "python",
   "pygments_lexer": "ipython3",
   "version": "3.6.4"
  }
 },
 "nbformat": 4,
 "nbformat_minor": 2
}
