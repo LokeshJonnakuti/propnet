{
 "cells": [
  {
   "cell_type": "markdown",
   "metadata": {},
   "source": [
    "# Tutorial on using Propnet"
   ]
  },
  {
   "cell_type": "markdown",
   "metadata": {},
   "source": [
    "The following is a tutorial designed to give a base overview of the classes and constructs used in the Propnet project. For each class an example of its construction and base usage is provided."
   ]
  },
  {
   "cell_type": "markdown",
   "metadata": {},
   "source": [
    "# Defining a Property Network: Propnet"
   ]
  },
  {
   "cell_type": "markdown",
   "metadata": {},
   "source": [
    "A Propnet object tells us all about the property types and models currently available for use.\n",
    "\n",
    "The mappings contained in this object define an interconnected network of materials properties. In this form, the Propnet object can be used to enumerate and analyze links between differnet materials properties."
   ]
  },
  {
   "cell_type": "code",
   "execution_count": 1,
   "metadata": {},
   "outputs": [
    {
     "name": "stdout",
     "output_type": "stream",
     "text": [
      "Propnet is not intended for public use at this time. Unless you personally know one of its developers, you probably shouldn't be using it right now! :) Functionality might change.\n"
     ]
    }
   ],
   "source": [
    "from propnet import Propnet"
   ]
  },
  {
   "cell_type": "code",
   "execution_count": 2,
   "metadata": {},
   "outputs": [],
   "source": [
    "p = Propnet()"
   ]
  },
  {
   "cell_type": "markdown",
   "metadata": {},
   "source": [
    "You can print Propnet to see the property types and models it supports."
   ]
  },
  {
   "cell_type": "code",
   "execution_count": 3,
   "metadata": {},
   "outputs": [
    {
     "name": "stdout",
     "output_type": "stream",
     "text": [
      "Propnet Graph\n",
      "\n",
      "Symbol Types:\n",
      "\t Crystallographic structure (oxidation-state decorated)\n",
      "\t\t Decorate crystal structure with oxidation state\n",
      "\t Is Metallic\n",
      "\t\t Wiedemann-Franz Law\n",
      "\t\t Metallic Classifier\n",
      "\t Crystallographic structure\n",
      "\t Formula\n",
      "\t Crystal Prototype\n",
      "\t Elastic tensor (in Voigt notation)\n",
      "\t Interplanar Spacing\n",
      "\t\t Peierls-Nabarro Stress for Dislocation Slip\n",
      "\t Final Energy\n",
      "\t Goldschmidt tolerance factor\n",
      "\t Final Energy Per Atom\n",
      "\t Thermal conductivity\n",
      "\t\t Clarke thermal conductivity\n",
      "\t Refractive index\n",
      "\t\t Optical Reflectance from the complex refractive index\n",
      "\t\t Refractive index, relative permeability and permittivity\n",
      "\t Ionic radius of B site in perovskite\n",
      "\t\t Perovskite Classifier\n",
      "\t Absorption Coefficient\n",
      "\t\t Optical Absorbance from the absorption coefficient, thickness and reflectance\n",
      "\t\t Optical Absorption coefficient alpha from extinction coeff and wavelength\n",
      "\t P-wave modulus\n",
      "\t Extinction Coefficient\n",
      "\t\t Optical Reflectance from the complex refractive index\n",
      "\t\t Optical Absorption coefficient alpha from extinction coeff and wavelength\n",
      "\t Thermal conductivity, electronic contribution\n",
      "\t\t Wiedemann-Franz Law\n",
      "\t Transmittance\n",
      "\t\t Optical Transmittance from Absorbance and Reflectance and vise versa\n",
      "\t Interatomic Spacing\n",
      "\t\t Peierls-Nabarro Stress for Dislocation Slip\n",
      "\t Kohn-Sham gap (PBE)\n",
      "\t Relative permittivity\n",
      "\t\t Refractive Index and Extinction Coefficient from Comlex Permittivity\n",
      "\t\t Refractive index, relative permeability and permittivity\n",
      "\t Snyder's acoustic sound velocity\n",
      "\t\t Calculate Snyder sound velocities\n",
      "\t Volume per Unit Cell\n",
      "\t Young's modulus\n",
      "\t Poisson ratio\n",
      "\t\t Peierls-Nabarro Stress for Dislocation Slip\n",
      "\t Absorbance\n",
      "\t\t Optical Transmittance from Absorbance and Reflectance and vise versa\n",
      "\t Lamé's first parameter\n",
      "\t Magnetic deformation\n",
      "\t Compliance tensor (in Voigt notation)\n",
      "\t Snyder's optical sound velocity\n",
      "\t\t Calculate Snyder sound velocities\n",
      "\t Reflectance\n",
      "\t\t Optical Absorbance from the absorption coefficient, thickness and reflectance\n",
      "\t\t Optical Transmittance from Absorbance and Reflectance and vise versa\n",
      "\t Formation Energy per Atom\n",
      "\t Strengthening Coefficient\n",
      "\t Band gap\n",
      "\t\t Estimate experimental band gaps from GW and DFT (PBE) calculations\n",
      "\t\t Estimate experimental band gaps from DFT (PBE) calculations\n",
      "\t Peierls Stress\n",
      "\t Shear modulus\n",
      "\t\t Peierls-Nabarro Stress for Dislocation Slip\n",
      "\t Electron effective mass\n",
      "\t\t Approximate electron mobility from effective mass and bulk modulus\n",
      "\t Bulk modulus\n",
      "\t\t Approximate electron mobility from effective mass and bulk modulus\n",
      "\t Yield Stress\n",
      "\t Quasiparticle band gap (GW)\n",
      "\t\t Estimate experimental band gaps from GW and DFT (PBE) calculations\n",
      "\t Lattice vectors for unit cell\n",
      "\t Ionic radius of A site in perovskite\n",
      "\t\t Perovskite Classifier\n",
      "\t Relative permeability\n",
      "\t\t Refractive index, relative permeability and permittivity\n",
      "\t Density\n",
      "\t Electron mobility\n",
      "\t Electrical conductivity\n",
      "\t\t Wiedemann-Franz Law\n",
      "\t Energy per atom\n",
      "\t Ionic radius\n",
      "\t\t Find Goldchmidt Tolerance Factor from ionic radii\n",
      "\t Minimum stress needed for dislocation movement\n",
      "\t Elastic Anisotropy\n",
      "\t Snyder's total sound velocity\n",
      "\t Energy above hull\n",
      "\t Temperature\n",
      "\t\t Debye model\n",
      "\t Piezoelectric Tensor\n",
      "\t Imaginary part of relative permittivity\n",
      "\t\t Refractive Index and Extinction Coefficient from Comlex Permittivity\n",
      "\t Number of atomic sites\n",
      "\t Wavelength\n",
      "\t\t Optical Absorption coefficient alpha from extinction coeff and wavelength\n",
      "\t Resolved shear stress\n",
      "\t\t Schmid's Law\n",
      "\t Temperature\n",
      "\t\t Wiedemann-Franz Law\n",
      "\t Average grain diameter\n",
      "\t Schmid factor\n",
      "\t Applied stress\n",
      "\t Thickness\n",
      "\t\t Optical Absorbance from the absorption coefficient, thickness and reflectance\n",
      "Models:\n",
      "\t Debye model\n",
      "\t\t Elastic tensor (in Voigt notation)\n",
      "\t\t Crystallographic structure\n",
      "\t Estimate experimental band gaps from GW and DFT (PBE) calculations\n",
      "\t\t Quasiparticle band gap (GW)\n",
      "\t\t Kohn-Sham gap (PBE)\n",
      "\t Refractive Index and Extinction Coefficient from Comlex Permittivity\n",
      "\t\t Refractive index\n",
      "\t\t Extinction Coefficient\n",
      "\t Calculate Snyder sound velocities\n",
      "\t\t Elastic tensor (in Voigt notation)\n",
      "\t\t Crystallographic structure\n",
      "\t Optical Reflectance from the complex refractive index\n",
      "\t\t Reflectance\n",
      "\t Optical Absorbance from the absorption coefficient, thickness and reflectance\n",
      "\t\t Absorbance\n",
      "\t Clarke thermal conductivity\n",
      "\t\t Elastic tensor (in Voigt notation)\n",
      "\t\t Crystallographic structure\n",
      "\t Refractive index, relative permeability and permittivity\n",
      "\t\t Refractive index\n",
      "\t\t Relative permittivity\n",
      "\t\t Relative permeability\n",
      "\t Approximate electron mobility from effective mass and bulk modulus\n",
      "\t\t Electron mobility\n",
      "\t Wiedemann-Franz Law\n",
      "\t\t Electrical conductivity\n",
      "\t\t Thermal conductivity, electronic contribution\n",
      "\t Schmid's Law\n",
      "\t\t Schmid factor\n",
      "\t\t Applied stress\n",
      "\t Find Goldchmidt Tolerance Factor from ionic radii\n",
      "\t\t Goldschmidt tolerance factor\n",
      "\t Decorate crystal structure with oxidation state\n",
      "\t\t Crystallographic structure\n",
      "\t Perovskite Classifier\n",
      "\t\t Crystallographic structure (oxidation-state decorated)\n",
      "\t Peierls-Nabarro Stress for Dislocation Slip\n",
      "\t\t Peierls Stress\n",
      "\t Optical Absorption coefficient alpha from extinction coeff and wavelength\n",
      "\t\t Absorption Coefficient\n",
      "\t\t Extinction Coefficient\n",
      "\t\t Wavelength\n",
      "\t Estimate experimental band gaps from DFT (PBE) calculations\n",
      "\t\t Kohn-Sham gap (PBE)\n",
      "\t Metallic Classifier\n",
      "\t\t Kohn-Sham gap (PBE)\n",
      "\t Optical Transmittance from Absorbance and Reflectance and vise versa\n",
      "\t\t Transmittance\n",
      "\t\t Reflectance\n",
      "\t\t Absorbance\n"
     ]
    }
   ],
   "source": [
    "print(p)"
   ]
  },
  {
   "cell_type": "markdown",
   "metadata": {},
   "source": [
    "Or you can iterate over the graph to see how it works behind the scenes."
   ]
  },
  {
   "cell_type": "code",
   "execution_count": 4,
   "metadata": {
    "scrolled": true
   },
   "outputs": [
    {
     "name": "stdout",
     "output_type": "stream",
     "text": [
      "SymbolType<object<structure_oxi>>\n",
      "SymbolType<object<is_metallic>>\n",
      "SymbolType<object<structure>>\n",
      "SymbolType<object<pretty_formula>>\n",
      "SymbolType<object<prototype>>\n",
      "SymbolType<property<elastic_tensor_voigt>>\n",
      "SymbolType<property<interplanar_spacing>>\n",
      "SymbolType<property<final_energy>>\n",
      "SymbolType<property<goldschmidt_tolerance_factor>>\n",
      "SymbolType<property<final_energy_per_atom>>\n",
      "SymbolType<property<thermal_conductivity>>\n",
      "SymbolType<property<refractive_index>>\n",
      "SymbolType<property<ionic_radius_b>>\n",
      "SymbolType<property<absorption_coefficient>>\n",
      "SymbolType<property<p_wave_modulus>>\n",
      "SymbolType<property<extinction_coefficient>>\n",
      "SymbolType<property<electronic_thermal_conductivity>>\n",
      "SymbolType<property<transmittance>>\n",
      "SymbolType<property<interatomic_spacing>>\n",
      "SymbolType<property<band_gap_pbe>>\n",
      "SymbolType<property<relative_permittivity>>\n",
      "SymbolType<property<snyder_acoustic_sound_velocity>>\n",
      "SymbolType<property<volume_unit_cell>>\n",
      "SymbolType<property<youngs_modulus>>\n",
      "SymbolType<property<poisson_ratio>>\n",
      "SymbolType<property<absorbance>>\n",
      "SymbolType<property<lame_first_parameter>>\n",
      "SymbolType<property<magnetic_deformation>>\n",
      "SymbolType<property<compliance_tensor_voigt>>\n",
      "SymbolType<property<snyder_optical_sound_velocity>>\n",
      "SymbolType<property<reflectance>>\n",
      "SymbolType<property<formation_energy_per_atom>>\n",
      "SymbolType<property<strengthening_coefficient>>\n",
      "SymbolType<property<band_gap>>\n",
      "SymbolType<property<peierls_stress>>\n",
      "SymbolType<property<shear_modulus>>\n",
      "SymbolType<property<electron_effective_mass>>\n",
      "SymbolType<property<bulk_modulus>>\n",
      "SymbolType<property<yield_stress>>\n",
      "SymbolType<property<band_gap_gw>>\n",
      "SymbolType<property<lattice_unit_cell>>\n",
      "SymbolType<property<ionic_radius_a>>\n",
      "SymbolType<property<relative_permeability>>\n",
      "SymbolType<property<density>>\n",
      "SymbolType<property<electron_mobility>>\n",
      "SymbolType<property<electrical_conductivity>>\n",
      "SymbolType<property<energy_per_atom>>\n",
      "SymbolType<property<ionic_radius>>\n",
      "SymbolType<property<dislocation_movement_stress>>\n",
      "SymbolType<property<elastic_anisotropy>>\n",
      "SymbolType<property<snyder_total_sound_velocity>>\n",
      "SymbolType<property<energy_above_hull>>\n",
      "SymbolType<property<debye_temperature>>\n",
      "SymbolType<property<piezoelectric_tensor>>\n",
      "SymbolType<property<relative_permittivity_im>>\n",
      "SymbolType<property<nsites>>\n",
      "SymbolType<condition<wavelength>>\n",
      "SymbolType<condition<resolved_shear_stress>>\n",
      "SymbolType<condition<temperature>>\n",
      "SymbolType<condition<grain_diameter>>\n",
      "SymbolType<condition<schmid_factor>>\n",
      "SymbolType<condition<applied_stress>>\n",
      "SymbolType<condition<thickness>>\n",
      "Model<DebyeTemperature>\n",
      "Model<EmpiricalBandGapsGarcia>\n",
      "Model<ComplexRefrFromComplexPerm>\n",
      "Model<SnyderSoundVelocity>\n",
      "Model<OpticalReflectance>\n",
      "Model<OpticalAbsorbance>\n",
      "Model<ClarkeThermalConductivity>\n",
      "Model<RefractiveIndexfromRelPerm>\n",
      "Model<SemiEmpiricalMobility>\n",
      "Model<WiedemannFranzLaw>\n",
      "Model<SchmidsLaw>\n",
      "Model<GoldschmidtTolerance>\n",
      "Model<TransformationOxiStructure>\n",
      "Model<PerovskiteClassifier>\n",
      "Model<PeierlsStress>\n",
      "Model<OpticalAbsorptionCoefficient>\n",
      "Model<EmpiricalBandGapSetyawan>\n",
      "Model<IsMetallic>\n",
      "Model<OpticalTransmittance>\n"
     ]
    }
   ],
   "source": [
    "for n in p.graph.nodes():\n",
    "    print(n)"
   ]
  },
  {
   "cell_type": "markdown",
   "metadata": {},
   "source": [
    "# Defining a Symbol or Property"
   ]
  },
  {
   "cell_type": "markdown",
   "metadata": {},
   "source": [
    "A SymbolType object is used to represent types of properties (such as Young's Modulus) or conditions (such as Temperature).\n",
    "- All SymbolType objects are accessible in a global DEFAULT_SYMBOL_TYPES variable.\n",
    "- Various metadata for each SymbolType can be accessed as shown below."
   ]
  },
  {
   "cell_type": "code",
   "execution_count": 5,
   "metadata": {},
   "outputs": [],
   "source": [
    "from propnet.symbols import DEFAULT_SYMBOL_TYPES"
   ]
  },
  {
   "cell_type": "code",
   "execution_count": 6,
   "metadata": {},
   "outputs": [
    {
     "name": "stdout",
     "output_type": "stream",
     "text": [
      "youngs_modulus:\n",
      "\tname:\tyoungs_modulus\n",
      "\tunits:\t1.0 gigapascal\n",
      "\tdisplay_names:\t[\"Young's modulus\", 'Elastic modulus']\n",
      "\tdisplay_symbols:\t['E']\n",
      "\tdimension:\t1\n",
      "\tcomment:\t\n",
      "\tcategory:\tproperty\n",
      "\n"
     ]
    }
   ],
   "source": [
    "symbol_type_object = DEFAULT_SYMBOL_TYPES['youngs_modulus']\n",
    "print(symbol_type_object)"
   ]
  },
  {
   "cell_type": "markdown",
   "metadata": {},
   "source": [
    "A Symbol object is used to represent values of properties (such as Young's Modulus = 200GPa) or conditions (such as temperature = 300K).\n",
    "\n",
    "- All Symbol objects have a SymbolType giving the type of property represented by the value.\n",
    "- All Symbol objects must be created at runtime by specifying a value during instantiation.\n",
    "- All Symbol objects have a list of strings called \"tags\" used to further label the property."
   ]
  },
  {
   "cell_type": "code",
   "execution_count": 7,
   "metadata": {
    "scrolled": true
   },
   "outputs": [],
   "source": [
    "from propnet import Symbol"
   ]
  },
  {
   "cell_type": "code",
   "execution_count": 8,
   "metadata": {},
   "outputs": [
    {
     "name": "stdout",
     "output_type": "stream",
     "text": [
      "<youngs_modulus, 200 gigapascal, ['mild steel']>\n"
     ]
    }
   ],
   "source": [
    "steel_youngs_modulus = Symbol('youngs_modulus', 200, ['mild steel'])\n",
    "print(steel_youngs_modulus)"
   ]
  },
  {
   "cell_type": "markdown",
   "metadata": {},
   "source": [
    "# Defining a Material"
   ]
  },
  {
   "cell_type": "markdown",
   "metadata": {},
   "source": [
    "A Material object is used to represent a collection of information known about a given material.\n",
    "\n",
    "When it is first created it has no information; however, properties can be added to the material one-by-one."
   ]
  },
  {
   "cell_type": "code",
   "execution_count": 9,
   "metadata": {},
   "outputs": [],
   "source": [
    "from propnet import Material\n",
    "from propnet import Symbol"
   ]
  },
  {
   "cell_type": "code",
   "execution_count": 10,
   "metadata": {},
   "outputs": [
    {
     "name": "stdout",
     "output_type": "stream",
     "text": [
      "Material: c5225674-1950-4f6e-9771-b3094941fcf8\n",
      "\tyoungs_modulus:\t200 gigapascal\n",
      "\n"
     ]
    }
   ],
   "source": [
    "mild_steel = Material()\n",
    "youngs_modulus = Symbol('youngs_modulus', 200, [])\n",
    "mild_steel.add_property(youngs_modulus)\n",
    "print(mild_steel)"
   ]
  },
  {
   "cell_type": "markdown",
   "metadata": {},
   "source": [
    "# Combining Models, Materials, and Symbols"
   ]
  },
  {
   "cell_type": "markdown",
   "metadata": {},
   "source": [
    "As illustrated, a Propnet object contains information for connecting many different models and symbol types. This forms an abstract web of interconnected variables without any quantities specified.\n",
    "\n",
    "On the other hand, a Material object represents a grouping of values for different variables. These are represented as a collection of Symbol objects identified with the material.\n",
    "\n",
    "At runtime, a single Propnet object can be combined with one or more Material objects. This procedure allows values to be plugged in to variables. Assuming the required inputs for a model all have values, the Propnet object can then dynamically predict the values for the output variables of the model."
   ]
  },
  {
   "cell_type": "code",
   "execution_count": 11,
   "metadata": {},
   "outputs": [
    {
     "name": "stdout",
     "output_type": "stream",
     "text": [
      "Material: ed43142a-950c-4099-b39d-bf828df7f5cd\n",
      "\trefractive_index:\t1.458 dimensionless\n",
      "\trelative_permittivity:\t3.9 dimensionless\n",
      "\n"
     ]
    }
   ],
   "source": [
    "## Setting up the example:\n",
    "from propnet import Propnet\n",
    "from propnet import Material\n",
    "from propnet import Symbol\n",
    "p = Propnet()\n",
    "\n",
    "silica = Material()\n",
    "refractive_index = Symbol('refractive_index', 1.458, [])\n",
    "relative_permittivity = Symbol('relative_permittivity', 3.9, [])\n",
    "\n",
    "silica.add_property(refractive_index)\n",
    "silica.add_property(relative_permittivity)\n",
    "\n",
    "p.add_material(silica)\n",
    "print(silica)"
   ]
  },
  {
   "cell_type": "markdown",
   "metadata": {},
   "source": [
    "Propnet can now examine the input values and identify if any models can be used to derive additional properties.\n",
    "\n",
    "In this example, we've provided the relative permittivity and index of refraction of silica. Thus, using the canonical relationship from electromagnetism, we expect Propnet to properly derive the relative permeability.\n",
    "\n",
    "Re-examining the material object previously created, a new Symbol object, the relative permeability, is now associated with that material."
   ]
  },
  {
   "cell_type": "code",
   "execution_count": 12,
   "metadata": {},
   "outputs": [
    {
     "name": "stdout",
     "output_type": "stream",
     "text": [
      "Material: ed43142a-950c-4099-b39d-bf828df7f5cd\n",
      "\trefractive_index:\t1.458 dimensionless\n",
      "\trelative_permittivity:\t3.9 dimensionless\n",
      "\trelative_permeability:\t0.545067692307692 dimensionless\n",
      "\n"
     ]
    }
   ],
   "source": [
    "p.evaluate(material=silica)\n",
    "print(silica)"
   ]
  },
  {
   "cell_type": "markdown",
   "metadata": {},
   "source": [
    "# Working with Models"
   ]
  },
  {
   "cell_type": "markdown",
   "metadata": {},
   "source": [
    "A Model object is used to represent a relationship between different materials property variables. This object can be directly manipulated and stores relavent metadata available as direct attributes.\n",
    "\n",
    "- All Models are imported as classes at runtime.\n",
    "- A Model class must be instantiated to be used at runtime."
   ]
  },
  {
   "cell_type": "code",
   "execution_count": 13,
   "metadata": {},
   "outputs": [
    {
     "name": "stdout",
     "output_type": "stream",
     "text": [
      "\n",
      "The refractive index gives the factor by which the speed of light is reduced in a medium.\n",
      "\n",
      "Likewise, modeling the induced magnetic and electric dipoles as linear within a material,\n",
      "a relative spatial electrical permittivity and relative spatial magnetic permeability\n",
      "arise from consideration of the total electrical and magnetic fields.\n",
      "\n",
      "From the Maxwell Relations, the index of refraction is equal to the geometric mean  of the\n",
      "relative permittivity and the relative permeability.\n",
      "\n",
      "RefractiveIndexfromRelPerm\n",
      "\n",
      "['n - sqrt(Ur*Er)']\n"
     ]
    }
   ],
   "source": [
    "from propnet.models import *\n",
    "model = RefractiveIndexfromRelPerm()\n",
    "print(model.description)\n",
    "print(model.name)\n",
    "print()\n",
    "print(model.equations)"
   ]
  },
  {
   "cell_type": "markdown",
   "metadata": {},
   "source": [
    "The Model class is a generally-defined interface, and subclasses may alter many aspects of its underlying functionality.\n",
    "\n",
    "\n",
    "Most Model objects will contain equations, symbols, and connections attributes. These define the core functionality of the model:\n",
    "\n",
    "The equations attribute will contain a list of sympy-parsable expressions. These expressions imply trivial equations such that the expression is equal to zero.\n",
    "\n",
    "The symbols attribute map the symbols used in the equations to Symbol_Type objects used in the Property Network.\n",
    "\n",
    "The connections attribute shows what outputs can be generated from a set of inputs."
   ]
  },
  {
   "cell_type": "code",
   "execution_count": 14,
   "metadata": {},
   "outputs": [
    {
     "name": "stdout",
     "output_type": "stream",
     "text": [
      "{'Er': 'relative_permeability', 'Ur': 'relative_permittivity', 'n': 'refractive_index'}\n",
      "\n",
      "['n - sqrt(Ur*Er)']\n",
      "\n",
      "[{'inputs': ['Ur', 'Er'], 'outputs': 'n'}, {'inputs': ['Er', 'n'], 'outputs': 'Ur'}, {'inputs': ['Ur', 'n'], 'outputs': 'Er'}]\n"
     ]
    }
   ],
   "source": [
    "print(model.symbol_mapping)\n",
    "print()\n",
    "print(model.equations)\n",
    "print()\n",
    "print(model.connections)"
   ]
  },
  {
   "cell_type": "markdown",
   "metadata": {},
   "source": [
    "A Model can be evaluated to generate outputs if given a complete set of inputs.\n",
    "\n",
    "Given the relative permeability and permittivity, the Refractive Index From Relative Permeability model can correctly calculate the index of refraction.\n",
    "\n",
    "This is given by 'n' in the dictionary below."
   ]
  },
  {
   "cell_type": "code",
   "execution_count": 15,
   "metadata": {
    "scrolled": true
   },
   "outputs": [
    {
     "data": {
      "text/plain": [
       "{'n': <Quantity(1.45120639469374, 'dimensionless')>, 'successful': True}"
      ]
     },
     "execution_count": 15,
     "metadata": {},
     "output_type": "execute_result"
    }
   ],
   "source": [
    "model.evaluate({'Ur': 0.54, 'Er': 3.9})"
   ]
  },
  {
   "cell_type": "markdown",
   "metadata": {},
   "source": [
    "# Loading Materials Data"
   ]
  },
  {
   "cell_type": "markdown",
   "metadata": {},
   "source": [
    "Material properties can be loaded in from the Materials Project so they don't need to be defined and added manually.\n",
    "\n",
    "Accessing Materials Project data requires an API key. You must input your own API key below to run the sample. You can locate your api key by logging into materialsproject.org and visiting the dashboard."
   ]
  },
  {
   "cell_type": "code",
   "execution_count": 3,
   "metadata": {
    "scrolled": true
   },
   "outputs": [
    {
     "name": "stdout",
     "output_type": "stream",
     "text": [
      "Material: 7201e644-cc93-47a3-8560-074a5223a10c\n",
      "\tstructure:\tFull Formula (Si2 O4)\n",
      "Reduced Formula: SiO2\n",
      "abc   :   5.138209   5.139163   5.138919\n",
      "angles:  88.540850 120.840203 120.841618\n",
      "Sites (6)\n",
      "  #  SP           a         b         c    coordination_no  forces\n",
      "---  ----  --------  --------  --------  -----------------  --------------------------------------\n",
      "  0  O     0.334692  0.375014  0.209679                  4  [0.00907491, -0.00223112, 0.00638321]\n",
      "  1  Si    0.999993  1.00001   0.999974                  4  [0.00399411, 0.00268543, 0.00019724]\n",
      "  2  O     0.834699  0.959681  0.625017                  4  [0.00353084, 0.00703423, -0.00908806]\n",
      "  3  O     0.165321  0.790307  0.12502                   4  [-0.00778536, -0.00920807, 0.00757932]\n",
      "  4  O     0.665314  0.875015  0.040304                  4  [-0.01303024, -0.000511, -0.00656695]\n",
      "  5  Si    0.49998   0.749969  0.250005                  4  [0.00421573, 0.00223052, 0.00149524]\n",
      "\tlattice_unit_cell:\t[[ 4.59584983 -0.71705099 -2.1829313 ]\n",
      " [-2.5970339   4.37838769 -0.70436621]\n",
      " [-0.42487417  0.71734555  5.07083664]]\n",
      "\tformation_energy_per_atom:\t-3.2846466908333327 electron_volt / atom\n",
      "\tpoisson_ratio:\t0.06 dimensionless\n",
      "\tdensity:\t2.1069457950719883 gram / centimeter ** 3\n",
      "\telastic_tensor_voigt:\t[[91.0, -38.0, 17.0, 0.0, 0.0, 0.0], [-38.0, 91.0, 17.0, 0.0, 0.0, 0.0], [17.0, 17.0, 86.0, 0.0, 0.0, 0.0], [0.0, 0.0, 0.0, 32.0, 0.0, 0.0], [0.0, 0.0, 0.0, 0.0, 32.0, 0.0], [0.0, 0.0, 0.0, 0.0, 0.0, 30.0]]\n",
      "\tenergy_above_hull:\t0 electron_volt / atom\n",
      "\tfinal_energy_per_atom:\t-7.9152607999999995 eV\n",
      "\tbulk_modulus:\t27.0 gigapascal\n",
      "\tvolume_unit_cell:\t94.70800712994269 angstrom ** 3\n",
      "\telastic_anisotropy:\t0.86 dimensionless\n",
      "\tfinal_energy:\t-47.4915648 eV\n",
      "\tpiezoelectric_tensor:\t[[0.0, 0.0, 0.0, -0.03729, 0.0, 0.0], [0.0, 0.0, 0.0, 0.0, -0.03729, 0.0], [0.0, 0.0, 0.0, 0.0, 0.0, -0.15524]]\n",
      "\n"
     ]
    }
   ],
   "source": [
    "from propnet.ext.matproj import *\n",
    "my_api_key = 'my_api_key'\n",
    "silica = import_material('mp-546794', api_key=my_api_key)\n",
    "print(silica)"
   ]
  },
  {
   "cell_type": "markdown",
   "metadata": {},
   "source": [
    "# Working with Units"
   ]
  },
  {
   "cell_type": "markdown",
   "metadata": {},
   "source": [
    "## Symbol Objects\n",
    "\n",
    "No units need to be specified when defining a Symbol or plugging values into Models. In the case that no units are supplied, default units are inferred based on those provided in the corresponding SymbolType object.\n",
    "\n",
    "For instance, youngs_modulus is a SymbolType with the default units of gigapascal. \n",
    "In the example above:\n",
    "\n",
    "           youngs_modulus = Symbol('youngs_modulus', 200, [])\n",
    "           \n",
    "youngs_modulus automatically has the value 200 gigapascals despite no units being provided.\n",
    "\n",
    "It is possible to provide your own units by working with the <b>unit registry</b> (ureg). The examples below demonstrate this capability using the method: \n",
    "            \n",
    "            ureg.Quantity(value, unit)\n",
    "            \n",
    "The property network will automatically convert the units you supply into canonical units behind the scenes for use in models that use the property."
   ]
  },
  {
   "cell_type": "code",
   "execution_count": 16,
   "metadata": {},
   "outputs": [
    {
     "name": "stdout",
     "output_type": "stream",
     "text": [
      "Material: 3550ca9a-40f3-4b84-972f-76d399df0ddf\n",
      "\tyield_stress:\t0.3702484666431411 gigapascal\n",
      "\n"
     ]
    }
   ],
   "source": [
    "## Setting up the example:\n",
    "from propnet import ureg\n",
    "from propnet import Propnet\n",
    "from propnet import Material\n",
    "from propnet import Symbol\n",
    "p = Propnet()\n",
    "\n",
    "mild_steel = Material()\n",
    "yield_strength = Symbol('yield_stress', ureg.Quantity(53700, 'psi'), [])\n",
    "mild_steel.add_property(yield_strength)\n",
    "print(mild_steel)"
   ]
  },
  {
   "cell_type": "markdown",
   "metadata": {},
   "source": [
    "## Models\n",
    "No units need to be specified when plugging values into a Model. In the case that no units are supplied, default units are inferred based on those provided in the corresponding SymbolType objects.\n",
    "\n",
    "            model.evaluate(dict)\n",
    "            \n",
    "The above method can be used to plug in raw python floats, indicating that default units are implied. \n",
    "\n",
    "The above method can also be used with custom units supplied to one or more of the values in the dictionary. \n",
    "\n",
    "In the example below we use the property network to calculate the Peierls-Nabarro Stress for a disloaction on the (111) plane in Aluminum (FCC) using custom units of psi for shear modulus."
   ]
  },
  {
   "cell_type": "code",
   "execution_count": 17,
   "metadata": {},
   "outputs": [
    {
     "name": "stdout",
     "output_type": "stream",
     "text": [
      "0.0127112280131544 gigapascal\n"
     ]
    }
   ],
   "source": [
    "from propnet import ureg\n",
    "from propnet.models import *\n",
    "from propnet import Symbol\n",
    "\n",
    "model = PeierlsStress()\n",
    "G = ureg.Quantity(3.9*10**6, 'psi')\n",
    "a = 4.046 / 3**(1/2)  # Angstroms automatically assumed by the model.\n",
    "b = 4.046 / 2**(1/2)  # Angstroms automatically assumed by the model.\n",
    "nu = 0.33\n",
    "\n",
    "tau = model.evaluate({'G': G, 'a': a, 'b': b, 'nu': nu})\n",
    "print(tau['T_pn'])"
   ]
  },
  {
   "cell_type": "markdown",
   "metadata": {},
   "source": [
    "## Converting Units\n",
    "Given you have an output with units, it is straightforward to convert between units using Pint."
   ]
  },
  {
   "cell_type": "code",
   "execution_count": 18,
   "metadata": {},
   "outputs": [
    {
     "name": "stdout",
     "output_type": "stream",
     "text": [
      "12.7112280131544 megapascal\n"
     ]
    }
   ],
   "source": [
    "# Converting to megapascals.\n",
    "print(tau['T_pn'].to('megapascal'))"
   ]
  },
  {
   "cell_type": "markdown",
   "metadata": {},
   "source": [
    "# Creating Custom Models and Properties"
   ]
  },
  {
   "cell_type": "markdown",
   "metadata": {},
   "source": [
    "The property network comes with many different models and properties pre-loaded and ready for use.\n",
    "\n",
    "To add additional properties to the project can be accomplished in two different forms:\n",
    "\n",
    "- Defining additional .yaml and .py files in the propnet.models and propnet.symbols folders respectively. For these changes to take effect, the property network must be re-loaded.\n",
    "\n",
    "- Defining additional Model and SymbolType classes at runtime.\n",
    "\n",
    "Both approaches will be detailed below."
   ]
  },
  {
   "cell_type": "markdown",
   "metadata": {},
   "source": [
    "## Defining new model files:\n",
    "Models require a model_name.yaml and a model_name.py file to be defined in the propnet/models folder.\n",
    "\n",
    "The syntax for a model.yaml definition is as follows:\n",
    "\n",
    "<table style=\"width:100%\">\n",
    "  <tr>\n",
    "    <th>Field Name</th>\n",
    "    <th>Field Format</th> \n",
    "    <th>Field Description</th>\n",
    "  </tr>\n",
    "  <tr>\n",
    "    <td>title</td>\n",
    "    <td>string</td> \n",
    "    <td>title of the model</td>\n",
    "  </tr>\n",
    "  <tr>\n",
    "    <td>tags</td>\n",
    "    <td>list of strings</td> \n",
    "    <td>any user-specific tags applying to the model</td>\n",
    "  </tr>\n",
    "  <tr>\n",
    "    <td>references</td>\n",
    "    <td>list of strings</td> \n",
    "    <td>any urls for citing the model</td>\n",
    "  </tr>\n",
    "  <tr>\n",
    "    <td>symbol_mapping</td>\n",
    "    <td>dictionary, string keys, string values</td> \n",
    "    <td>mapping from symbols used in the model to SymbolType names used in the property network</td>\n",
    "  </tr>\n",
    "  <tr>\n",
    "    <td>connections</td>\n",
    "    <td>list of dictionaries with keys: 'inputs', 'outputs' mapping to lists of symbol strings used in the model</td> \n",
    "    <td>datastrucutre used to determine the set of all outputs that can be generated from a set of inputs</td>\n",
    "  </tr>\n",
    "  <tr>\n",
    "    <td>equations</td>\n",
    "    <td>list of strings</td> \n",
    "    <td>list of equations that create the model, defined as the value of the expression equals zero</td>\n",
    "  </tr>\n",
    "</table>\n",
    "\n",
    "By default the python file can be a simple class declaration:\n",
    "\n",
    "            class model_name(AbstractModel):\n",
    "                pass\n",
    "                \n",
    "Methods of the AbstractModel class can be overridden to allow for custom model evaluation() or constraint handling (see below)."
   ]
  },
  {
   "cell_type": "markdown",
   "metadata": {},
   "source": [
    "## Defining new SymbolType files:\n",
    "SymbolTypes require a symbol_type.yaml file to be defined in the propnet/symbols folder.\n",
    "The syntax for a symbol_type.yaml definition is as follows:\n",
    "<table style=\"width:100%\">\n",
    "  <tr>\n",
    "    <th>Field Name</th>\n",
    "    <th>Field Format</th> \n",
    "    <th>Field Description</th>\n",
    "  </tr>\n",
    "  <tr>\n",
    "    <td>name</td>\n",
    "    <td>string</td> \n",
    "    <td>name of the property, must match the file name</td>\n",
    "  </tr>\n",
    "  <tr>\n",
    "    <td>units</td>\n",
    "    <td>nested list: [1.0, [[unit name string, unit_power], ...]</td> \n",
    "    <td>the units used to represent this SymbolType, adjacent entries in the list indicate multiplication.</td>\n",
    "  </tr>\n",
    "  <tr>\n",
    "    <td>display_names</td>\n",
    "    <td>list of strings</td> \n",
    "    <td>any strings useful for representing this SymbolType</td>\n",
    "  </tr>\n",
    "  <tr>\n",
    "    <td>display_symbols</td>\n",
    "    <td>list of strings</td> \n",
    "    <td>any short string symbols useful for representing this SymbolType</td>\n",
    "  </tr>\n",
    "  <tr>\n",
    "    <td>dimension</td>\n",
    "    <td>list of numbers</td> \n",
    "    <td>datastructure to give the length of each dimension in a higher order tensor representation of the property, 1 for a scalar value.</td>\n",
    "  </tr>\n",
    "  <tr>\n",
    "    <td>comment</td>\n",
    "    <td>string</td> \n",
    "    <td>any comments pertinent to the SymbolType</td>\n",
    "  </tr>\n",
    "  <tr>\n",
    "    <td>category</td>\n",
    "    <td>string</td> \n",
    "    <td>whether this is a property, object, or condition</td>\n",
    "  </tr>\n",
    "</table>"
   ]
  },
  {
   "cell_type": "markdown",
   "metadata": {},
   "source": [
    "## Defining Models as Python Classes:\n",
    "A Model can be defined as a new class that extends the AbstractModel class.\n",
    "\n",
    "See example below for a simple overview. All information is loaded in through the metadata optional argumnent. This defines a model that takes in values (a, b) and returns their product.\n",
    "\n",
    "Based on symbol_mapping, this model expects variable a to be of type A, variable b to be of type B, and outputs a variable c of type C.\n",
    "\n",
    "For more advanced behavior, additional methods of AbstractModel could be overridden for custom model evaluation() or constraint handling (see below)."
   ]
  },
  {
   "cell_type": "code",
   "execution_count": 23,
   "metadata": {},
   "outputs": [],
   "source": [
    "from propnet.core.models import AbstractModel\n",
    "class Model1 (AbstractModel):\n",
    "    def __init__(self, symbol_types=None):\n",
    "        AbstractModel.__init__(self, metadata={\n",
    "                        'title': 'model1',\n",
    "                        'tags': [],\n",
    "                        'references': [],\n",
    "                        'symbol_mapping': {'a': 'A',\n",
    "                                           'b': 'B',\n",
    "                                           'c': 'C'\n",
    "                                           },\n",
    "                        'connections': [{\n",
    "                                         'inputs': ['a', 'b'],\n",
    "                                         'outputs': ['c']\n",
    "                                         }],\n",
    "                        'equations': ['c=a*b'],\n",
    "                        'description': ''\n",
    "            },\n",
    "            symbol_types=symbol_types)"
   ]
  },
  {
   "cell_type": "markdown",
   "metadata": {},
   "source": [
    "## Defining SymbolTypes as Python Classes:\n",
    "A new SymbolType can be defined as a new instance of the SymbolType class by specifying all the metadata present in a symbol_type.yaml file.\n",
    "\n",
    "See example below."
   ]
  },
  {
   "cell_type": "code",
   "execution_count": 26,
   "metadata": {},
   "outputs": [],
   "source": [
    "from propnet.core.symbols import SymbolType\n",
    "A = SymbolType('gibbs_free_energy', [1.0, [['joules',1]]], ['G'], ['G'], 1, '', validate=False)"
   ]
  },
  {
   "cell_type": "markdown",
   "metadata": {},
   "source": [
    "# Defining a Model with Constraints\n",
    "\n",
    "In several cases a model may only be accurate or applicable when certain constraints are met.\n",
    "\n",
    "In the example below, the WLF (Wiedeman-Franz-Lorenz law) is applied to a material to caluclate its thermal conductivity from its electrical conductivity. This relationship requires that the material be a metal.\n",
    "\n",
    "By definition, the WLF model included with the property network includes checks for whether or not a material is a metal. Thus, the thermal conductivity will only be calculated for metals."
   ]
  },
  {
   "cell_type": "code",
   "execution_count": 1,
   "metadata": {},
   "outputs": [
    {
     "name": "stdout",
     "output_type": "stream",
     "text": [
      "Propnet is not intended for public use at this time. Unless you personally know one of its developers, you probably shouldn't be using it right now! :) Functionality might change.\n",
      "Silicon's Graph\n",
      "Material: 7bb7a29e-fc5e-4371-80c4-60afe5b49cef\n",
      "\ttemperature:\t300 kelvin\n",
      "\tband_gap:\t1.12 electron_volt\n",
      "\telectrical_conductivity:\t0.000434 / meter / ohm\n",
      "\tis_metallic:\t0 dimensionless\n",
      "\tband_gap_pbe:\t1.50816023738872 electron_volt\n",
      "\tband_gap_gw:\t1.13627254509018 electron_volt\n",
      "\n",
      "\n",
      "Aluminum's Graph\n",
      "Material: 692d5ba2-c00a-440f-82e7-f29a833aea32\n",
      "\ttemperature:\t300 kelvin\n",
      "\tband_gap:\t0 electron_volt\n",
      "\telectrical_conductivity:\t36900000.0 / meter / ohm\n",
      "\tis_metallic:\t1 dimensionless\n",
      "\tband_gap_pbe:\t0.677299703264095 electron_volt\n",
      "\tband_gap_gw:\t0.0140280561122244 electron_volt\n",
      "\telectronic_thermal_conductivity:\t271.215000000000 watt / kelvin / meter\n",
      "\n"
     ]
    }
   ],
   "source": [
    "from propnet import *\n",
    "\n",
    "silicon = Material()\n",
    "silicon.add_property(Symbol('temperature', 300, []))\n",
    "silicon.add_property(Symbol('band_gap', 1.12, []))\n",
    "silicon.add_property(Symbol('electrical_conductivity', 4.34E-4, []))\n",
    "\n",
    "aluminum = Material()\n",
    "aluminum.add_property(Symbol('temperature', 300, []))\n",
    "aluminum.add_property(Symbol('band_gap', 0, []))\n",
    "aluminum.add_property(Symbol('electrical_conductivity', 3.69E7, []))\n",
    "\n",
    "p1 = Propnet(materials=[silicon])\n",
    "p1.evaluate()\n",
    "\n",
    "p2 = Propnet(materials=[aluminum])\n",
    "p2.evaluate()\n",
    "\n",
    "print(\"Silicon's Graph\")\n",
    "print(silicon)\n",
    "print()\n",
    "print(\"Aluminum's Graph\")\n",
    "print(aluminum)"
   ]
  },
  {
   "cell_type": "markdown",
   "metadata": {},
   "source": [
    "# Models with Custom Evaluation\n",
    "\n",
    "In several cases, a model may not be representable as an equation parsable by sympy. In these cases, the plug_in method must be overridden to perform the custom evaluation. \n",
    "\n",
    "The is_metallic model is reproduced below, yielding a simple example of custom evaluation."
   ]
  },
  {
   "cell_type": "code",
   "execution_count": 27,
   "metadata": {},
   "outputs": [],
   "source": [
    "class IsMetallic(AbstractModel):\n",
    "    def plug_in(self, symbol_values):\n",
    "        return {'is_metallic': symbol_values['E_g'] <= 0}"
   ]
  },
  {
   "cell_type": "markdown",
   "metadata": {},
   "source": [
    "# A Grand Example"
   ]
  },
  {
   "cell_type": "code",
   "execution_count": null,
   "metadata": {},
   "outputs": [],
   "source": []
  }
 ],
 "metadata": {
  "kernelspec": {
   "display_name": "Python 3",
   "language": "python",
   "name": "python3"
  },
  "language_info": {
   "codemirror_mode": {
    "name": "ipython",
    "version": 3
   },
   "file_extension": ".py",
   "mimetype": "text/x-python",
   "name": "python",
   "nbconvert_exporter": "python",
   "pygments_lexer": "ipython3",
   "version": "3.6.3"
  }
 },
 "nbformat": 4,
 "nbformat_minor": 2
}
