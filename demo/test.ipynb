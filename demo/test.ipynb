{
 "cells": [
  {
   "cell_type": "code",
   "execution_count": 1,
   "metadata": {
    "ExecuteTime": {
     "end_time": "2018-03-08T00:30:54.309405Z",
     "start_time": "2018-03-08T00:30:54.304225Z"
    },
    "collapsed": true
   },
   "outputs": [],
   "source": [
    "## Setting up the example:\n",
    "import os\n",
    "os.chdir(\"/Users/vtshitoyan/dev/TRI/propnet\")"
   ]
  },
  {
   "cell_type": "code",
   "execution_count": 2,
   "metadata": {
    "ExecuteTime": {
     "end_time": "2018-03-08T00:30:56.755387Z",
     "start_time": "2018-03-08T00:30:55.723471Z"
    }
   },
   "outputs": [
    {
     "name": "stdout",
     "output_type": "stream",
     "text": [
      "Failed to parse lame_first_parameter.yaml, 'ascii' codec can't decode byte 0xc3 in position 81: ordinal not in range(128).\n",
      "'ascii' codec can't decode byte 0xc3 in position 626: ordinal not in range(128)\n",
      "'ascii' codec can't decode byte 0xcf in position 176: ordinal not in range(128)\n",
      "'ascii' codec can't decode byte 0xce in position 258: ordinal not in range(128)\n",
      "'ascii' codec can't decode byte 0xc2 in position 529: ordinal not in range(128)\n",
      "Material: eef1c650-13d3-46a4-bc82-629037e274c4\n",
      "\trelative_permittivity:\t3\n",
      "\trelative_permittivity_im:\t0.2\n",
      "\tthickness:\t10\n",
      "\twavelength:\t1060\n",
      "\textinction_coefficient:\t0.0577030141092359\n",
      "\trefractive_index:\t1.73301172466815\n",
      "\n"
     ]
    }
   ],
   "source": [
    "from propnet import Propnet\n",
    "from propnet import Material\n",
    "from propnet.symbols import SymbolType\n",
    "from propnet import Symbol\n",
    "p = Propnet()\n",
    "\n",
    "salt = Material()\n",
    "# refractive_index = Symbol(SymbolType['refractive_index'], 1.49, [])\n",
    "# extinction_coefficient = Symbol(SymbolType['extinction_coefficient'], 0.2, [])\n",
    "relative_permittivity = Symbol(SymbolType['relative_permittivity'], 3, [])\n",
    "refractive_index = Symbol(SymbolType['refractive_index'], 1.4, [])\n",
    "relative_permittivity_im = Symbol(SymbolType['relative_permittivity_im'], 0.2, [])\n",
    "absorption_coefficient = Symbol(SymbolType['absorption_coefficient'], 7*10**(-4), []) # in m^-1\n",
    "wavelength = Symbol(SymbolType['wavelength'], 1060, []) # wavelength in nm\n",
    "thickness = Symbol(SymbolType['thickness'], 10, []) # thickness in nm\n",
    "\n",
    "# salt.add_property(refractive_index)\n",
    "salt.add_property(relative_permittivity)\n",
    "salt.add_property(relative_permittivity_im)\n",
    "salt.add_property(thickness)\n",
    "# salt.add_property(absorption_coefficient)\n",
    "salt.add_property(wavelength)\n",
    "\n",
    "p.add_material(salt)\n",
    "p.evaluate(material=salt)\n",
    "print(salt)"
   ]
  },
  {
   "cell_type": "code",
   "execution_count": 3,
   "metadata": {
    "ExecuteTime": {
     "end_time": "2018-03-08T00:31:00.938937Z",
     "start_time": "2018-03-08T00:31:00.586819Z"
    }
   },
   "outputs": [
    {
     "name": "stdout",
     "output_type": "stream",
     "text": [
      "Material: eef1c650-13d3-46a4-bc82-629037e274c4\n",
      "\trelative_permittivity:\t3\n",
      "\trelative_permittivity_im:\t0.2\n",
      "\tthickness:\t10\n",
      "\twavelength:\t1060\n",
      "\textinction_coefficient:\t0.0577030141092359\n",
      "\trefractive_index:\t1.73301172466815\n",
      "\trelative_permeability:\t1.00110987927910\n",
      "\treflectance:\t0.0723482912674424\n",
      "\tabsorption_coefficient:\t0.000684073076285146\n",
      "\n"
     ]
    }
   ],
   "source": [
    "p.evaluate(material=salt)\n",
    "print(salt)"
   ]
  },
  {
   "cell_type": "code",
   "execution_count": 3,
   "metadata": {
    "ExecuteTime": {
     "end_time": "2018-03-07T21:42:43.767916Z",
     "start_time": "2018-03-07T21:42:43.757771Z"
    }
   },
   "outputs": [
    {
     "data": {
      "text/plain": [
       "{'@class': 'SymbolMetadata',\n",
       " '@module': 'propnet.core.symbols',\n",
       " 'comment': 'thickness of the material',\n",
       " 'dimension': 1,\n",
       " 'display_names': ['Thickness'],\n",
       " 'display_symbols': ['t'],\n",
       " 'name': 'thickness',\n",
       " 'test_value': 100,\n",
       " 'type': 'condition',\n",
       " 'units': <Quantity(1.0, 'nanometer')>}"
      ]
     },
     "execution_count": 3,
     "metadata": {},
     "output_type": "execute_result"
    }
   ],
   "source": [
    "SymbolType['thickness'].value.as_dict()"
   ]
  },
  {
   "cell_type": "code",
   "execution_count": 8,
   "metadata": {
    "ExecuteTime": {
     "end_time": "2018-03-08T00:29:44.950488Z",
     "start_time": "2018-03-08T00:29:44.931682Z"
    }
   },
   "outputs": [
    {
     "name": "stdout",
     "output_type": "stream",
     "text": [
      "Optical Absorbance from the absorption coefficient, thickness and reflectance\n",
      "\n",
      "Absorbance A quantifies the reduction of light intensity as it passes through the material,\n",
      "i.e. I = I_0(1 - R - A), where I_0 is the intensity at the surface and I is the intensity of\n",
      "the light that comes out. R is the reflectance, which is the proportion of the reflected light\n",
      "at the interface.\n",
      "\n",
      "Frequency-dependent absorption coefficient alpha models the rate of the exponential decay of\n",
      "intensity as the light passes through medium, and is derived from the extinction coefficient k.\n",
      "OpticalAbsorbance\n",
      "['A - (1 - R) * (1 - exp(-alpha * t))']\n",
      "{'alpha': 'absorption_coefficient', 't': 'thickness', 'R': 'reflectance', 'A': 'absorbance', 'T': 'transmittance'}\n",
      "[{'inputs': ['alpha', 't', 'R'], 'outputs': 'A'}, {'inputs': ['A', 't', 'R'], 'outputs': 'alpha'}]\n"
     ]
    }
   ],
   "source": [
    "from propnet.models import *\n",
    "model = OpticalAbsorbance()\n",
    "print(model.title)\n",
    "print(model.description)\n",
    "print(model.name)\n",
    "print(model.equations)\n",
    "print(model.symbol_mapping)\n",
    "print(model.connections)"
   ]
  },
  {
   "cell_type": "code",
   "execution_count": 11,
   "metadata": {
    "ExecuteTime": {
     "end_time": "2018-03-08T00:30:05.644716Z",
     "start_time": "2018-03-08T00:30:05.630815Z"
    }
   },
   "outputs": [
    {
     "data": {
      "text/plain": [
       "{'A': 0.402731756966872, 'successful': True}"
      ]
     },
     "execution_count": 11,
     "metadata": {},
     "output_type": "execute_result"
    }
   ],
   "source": [
    "model.evaluate({'t': 100, 'alpha': 0.007, 'R': 0.2})"
   ]
  },
  {
   "cell_type": "code",
   "execution_count": 7,
   "metadata": {
    "ExecuteTime": {
     "end_time": "2018-03-07T23:06:56.965668Z",
     "start_time": "2018-03-07T23:06:56.932844Z"
    }
   },
   "outputs": [
    {
     "data": {
      "text/plain": [
       "{'A': 0.402731756966872}"
      ]
     },
     "execution_count": 7,
     "metadata": {},
     "output_type": "execute_result"
    }
   ],
   "source": [
    "import sympy as sp\n",
    "from sympy.parsing.sympy_parser import parse_expr\n",
    "\n",
    "symbol_values = {'t': 100, 'alpha': 0.007, 'R': 0.2}\n",
    "expr = [\"A - (1 - R) * (1 - exp(-alpha * t))\"]\n",
    "eqn = [parse_expr(exp) for exp in expr]\n",
    "eqn = [eq.subs(symbol_values).evalf() for eq in eqn]\n",
    "\n",
    "possible_outputs = set()\n",
    "for eq in eqn:\n",
    "    possible_outputs = possible_outputs.union(eq.free_symbols)\n",
    "outputs = {} \n",
    "\n",
    "\n",
    "for i, possible_output in enumerate(possible_outputs):\n",
    "    solutions = sp.nonlinsolve(eqn, possible_output)\n",
    "    solution = list(solutions)[0][0]\n",
    "    if not isinstance(solution, sp.EmptySet):\n",
    "        outputs[str(possible_output)] = solution\n",
    "outputs"
   ]
  },
  {
   "cell_type": "code",
   "execution_count": 4,
   "metadata": {
    "ExecuteTime": {
     "end_time": "2018-03-07T23:06:22.385694Z",
     "start_time": "2018-03-07T23:06:22.372616Z"
    }
   },
   "outputs": [
    {
     "name": "stdout",
     "output_type": "stream",
     "text": [
      "Refraction Index and Extinction Coefficient from Comlex Permittivity\n",
      "\n",
      "Assumes that the magnetic permeability \\mu is 1\n",
      "ComplexRefrFromComplexPerm\n",
      "['n - sqrt((sqrt(e1**2+e2**2)+e1)/2)', 'k - sqrt((sqrt(e1**2+e2**2)-e1)/2)']\n",
      "{'e1': 'relative_permittivity', 'e2': 'relative_permittivity_im', 'n': 'refractive_index', 'k': 'extinction_coefficient'}\n",
      "[{'inputs': ['e1', 'e2'], 'outputs': ['n', 'k']}]\n"
     ]
    }
   ],
   "source": [
    "from propnet.models import *\n",
    "model = ComplexRefrFromComplexPerm()\n",
    "print(model.title)\n",
    "print(model.description)\n",
    "print(model.name)\n",
    "print(model.equations)\n",
    "print(model.symbol_mapping)\n",
    "print(model.connections)"
   ]
  },
  {
   "cell_type": "code",
   "execution_count": 8,
   "metadata": {
    "ExecuteTime": {
     "end_time": "2018-03-07T23:07:38.609956Z",
     "start_time": "2018-03-07T23:07:38.502754Z"
    }
   },
   "outputs": [
    {
     "data": {
      "text/plain": [
       "{'k': 0.0814696110281483, 'n': 1.22745154589543, 'successful': True}"
      ]
     },
     "execution_count": 8,
     "metadata": {},
     "output_type": "execute_result"
    }
   ],
   "source": [
    "model.evaluate({'e1': 1.5, 'e2': 0.2})"
   ]
  },
  {
   "cell_type": "code",
   "execution_count": 12,
   "metadata": {
    "ExecuteTime": {
     "end_time": "2018-03-08T00:30:24.344492Z",
     "start_time": "2018-03-08T00:30:24.329035Z"
    }
   },
   "outputs": [
    {
     "name": "stdout",
     "output_type": "stream",
     "text": [
      "Optical Absorption coefficient alpha from extinction coeff and wavelength\n",
      "\n",
      "Absorption coefficient characterizes the decay of intensity as light goes through the material.\n",
      "It scales linearly with frequency and extinction coefficient (imaginary part of relative permittivity).\n",
      "\n",
      "OpticalAbsorptionCoefficient\n",
      "['alpha - (4*pi*k*l**-1)']\n",
      "{'alpha': 'absorption_coefficient', 'k': 'extinction_coefficient', 'l': 'wavelength'}\n",
      "[{'inputs': ['k', 'l'], 'outputs': 'alpha'}, {'inputs': ['alpha', 'l'], 'outputs': 'k'}, {'inputs': ['k', 'alpha'], 'outputs': 'l'}]\n"
     ]
    }
   ],
   "source": [
    "from propnet.models import *\n",
    "model = OpticalAbsorptionCoefficient()\n",
    "print(model.title)\n",
    "print(model.description)\n",
    "print(model.name)\n",
    "print(model.equations)\n",
    "print(model.symbol_mapping)\n",
    "print(model.connections)"
   ]
  },
  {
   "cell_type": "code",
   "execution_count": 16,
   "metadata": {
    "ExecuteTime": {
     "end_time": "2018-03-08T00:30:46.415898Z",
     "start_time": "2018-03-08T00:30:46.402822Z"
    }
   },
   "outputs": [
    {
     "data": {
      "text/plain": [
       "{'alpha': 0.00118550666173200, 'successful': True}"
      ]
     },
     "execution_count": 16,
     "metadata": {},
     "output_type": "execute_result"
    }
   ],
   "source": [
    "model.evaluate({'k': 0.1, 'l': 1060})"
   ]
  },
  {
   "cell_type": "code",
   "execution_count": 2,
   "metadata": {
    "ExecuteTime": {
     "end_time": "2018-03-08T00:17:42.328451Z",
     "start_time": "2018-03-08T00:17:39.756740Z"
    }
   },
   "outputs": [
    {
     "name": "stdout",
     "output_type": "stream",
     "text": [
      "Failed to parse lame_first_parameter.yaml, 'ascii' codec can't decode byte 0xc3 in position 81: ordinal not in range(128).\n",
      "Refractive index, relative permeability and permittivity\n",
      "\n",
      "The refractive index gives the factor by which the speed of light is reduced in a medium.\n",
      "\n",
      "Likewise, modeling the induced magnetic and electric dipoles as linear within a material,\n",
      "a relative spatial electrical permittivity and relative spatial magnetic permeability\n",
      "arise from consideration of the total electrical and magnetic fields.\n",
      "\n",
      "From the Maxwell Relations, the index of refraction is equal to the geometric mean  of the\n",
      "relative permittivity and the relative permeability.\n",
      "\n",
      "RefractiveIndexfromRelPerm\n",
      "['n - sqrt(Ur*Er)']\n",
      "{'Er': 'relative_permeability', 'Ur': 'relative_permittivity', 'n': 'refractive_index'}\n",
      "[{'inputs': ['Ur', 'Er'], 'outputs': 'n'}, {'inputs': ['Er', 'n'], 'outputs': 'Ur'}, {'inputs': ['Ur', 'n'], 'outputs': 'Er'}]\n"
     ]
    }
   ],
   "source": [
    "from propnet.models import *\n",
    "model = RefractiveIndexfromRelPerm()\n",
    "print(model.title)\n",
    "print(model.description)\n",
    "print(model.name)\n",
    "print(model.equations)\n",
    "print(model.symbol_mapping)\n",
    "print(model.connections)"
   ]
  },
  {
   "cell_type": "code",
   "execution_count": 3,
   "metadata": {
    "ExecuteTime": {
     "end_time": "2018-03-08T00:17:44.921554Z",
     "start_time": "2018-03-08T00:17:44.874477Z"
    }
   },
   "outputs": [
    {
     "data": {
      "text/plain": [
       "{'Er': ConditionSet(Er, Eq(Er**0.5 - 1.0, 0), Complexes(S.Reals x S.Reals, False)),\n",
       " 'successful': True}"
      ]
     },
     "execution_count": 3,
     "metadata": {},
     "output_type": "execute_result"
    }
   ],
   "source": [
    "model.evaluate({'n': 1, 'Ur': 1})"
   ]
  },
  {
   "cell_type": "code",
   "execution_count": null,
   "metadata": {
    "collapsed": true
   },
   "outputs": [],
   "source": []
  }
 ],
 "metadata": {
  "kernelspec": {
   "display_name": "propnet-dev",
   "language": "python",
   "name": "propnet-dev"
  },
  "language_info": {
   "codemirror_mode": {
    "name": "ipython",
    "version": 3
   },
   "file_extension": ".py",
   "mimetype": "text/x-python",
   "name": "python",
   "nbconvert_exporter": "python",
   "pygments_lexer": "ipython3",
   "version": "3.6.4"
  }
 },
 "nbformat": 4,
 "nbformat_minor": 2
}
